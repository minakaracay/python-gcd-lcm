{
 "cells": [
  {
   "cell_type": "code",
   "execution_count": 2,
   "id": "de3d7e3c-a958-483f-95aa-5f7717cf8676",
   "metadata": {},
   "outputs": [
    {
     "name": "stdin",
     "output_type": "stream",
     "text": [
      "Birinci Sayıyı Giriniz :  5\n",
      "İkinci Sayıyı Giriniz :  7\n"
     ]
    },
    {
     "name": "stdout",
     "output_type": "stream",
     "text": [
      "EBOB: 1\n",
      "EKOK: 35\n"
     ]
    }
   ],
   "source": [
    "#Öncelikle sayılarımız için tamsayı input alanları oluşturuyoruz\n",
    "ilkSayi = int(input(\"Birinci Sayıyı Giriniz : \"))\n",
    "ikinciSayi = int(input(\"İkinci Sayıyı Giriniz : \"))\n",
    "#hangi sayının küçük olduğunu buluyoruz ve değere atıyoruz\n",
    "if (ilkSayi > ikinciSayi):\n",
    "    kucukSayi = ikinciSayi\n",
    "else:\n",
    "    kucukSayi = ilkSayi\n",
    "#sayılarımızı bir döngüye sokarak her ikisi içinde ortak böleni buluyoruz\n",
    "for i in range(1,kucukSayi+1):\n",
    "    if (ilkSayi % i==0) and (ikinciSayi % i ==0):\n",
    "        ebob = i\n",
    "        ekok = (ilkSayi*ikinciSayi)//ebob\n",
    "#bulduğumuz ebob ve ekok değerlerini yazdırıyoruz\n",
    "print (\"EBOB:\", ebob)\n",
    "print (\"EKOK:\", ekok)"
   ]
  },
  {
   "cell_type": "code",
   "execution_count": null,
   "id": "691f6421-507a-45fc-8caa-4b37f3515d31",
   "metadata": {},
   "outputs": [],
   "source": []
  }
 ],
 "metadata": {
  "kernelspec": {
   "display_name": "Python 3 (ipykernel)",
   "language": "python",
   "name": "python3"
  },
  "language_info": {
   "codemirror_mode": {
    "name": "ipython",
    "version": 3
   },
   "file_extension": ".py",
   "mimetype": "text/x-python",
   "name": "python",
   "nbconvert_exporter": "python",
   "pygments_lexer": "ipython3",
   "version": "3.9.12"
  }
 },
 "nbformat": 4,
 "nbformat_minor": 5
}
