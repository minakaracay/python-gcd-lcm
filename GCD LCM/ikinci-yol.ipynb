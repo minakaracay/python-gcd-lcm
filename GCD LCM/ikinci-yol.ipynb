{
 "cells": [
  {
   "cell_type": "code",
   "execution_count": 1,
   "id": "dfa03ea6-18d9-4ee2-935f-7edef39ff8b5",
   "metadata": {},
   "outputs": [
    {
     "name": "stdin",
     "output_type": "stream",
     "text": [
      "Birinci Sayıyı Giriniz :  45\n",
      "İkinci Sayıyı Giriniz :  75\n"
     ]
    },
    {
     "name": "stdout",
     "output_type": "stream",
     "text": [
      "EBOB: 15\n",
      "EKOK: 225.0\n"
     ]
    }
   ],
   "source": [
    "#Öncelikle sayılarımız için tamsayı input alanları oluşturuyoruz\n",
    "ilkSayi = int(input(\"Birinci Sayıyı Giriniz : \"))\n",
    "ikinciSayi = int(input(\"İkinci Sayıyı Giriniz : \"))\n",
    "#pythonda halihazırda tanımlı olan math.gcd fonksiyonu ile\n",
    "#EBOB değerini elde ediyoruz\n",
    "import math #matematik kütüphanesini tanımlıyoruz\n",
    "ebob=math.gcd(ilkSayi,ikinciSayi)\n",
    "ekok=(ilkSayi*ikinciSayi)/ebob \n",
    "#bulduğumuz ebob ve ekok değerlerini yazdırıyoruz        \n",
    "print (\"EBOB:\", ebob)\n",
    "print (\"EKOK:\", ekok)"
   ]
  },
  {
   "cell_type": "code",
   "execution_count": null,
   "id": "0f5cf706-b7eb-48c3-8c54-2a5158306290",
   "metadata": {},
   "outputs": [],
   "source": []
  }
 ],
 "metadata": {
  "kernelspec": {
   "display_name": "Python 3 (ipykernel)",
   "language": "python",
   "name": "python3"
  },
  "language_info": {
   "codemirror_mode": {
    "name": "ipython",
    "version": 3
   },
   "file_extension": ".py",
   "mimetype": "text/x-python",
   "name": "python",
   "nbconvert_exporter": "python",
   "pygments_lexer": "ipython3",
   "version": "3.9.12"
  }
 },
 "nbformat": 4,
 "nbformat_minor": 5
}
